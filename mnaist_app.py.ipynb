{
 "cells": [
  {
   "cell_type": "code",
   "execution_count": 5,
   "id": "3199c798-43e6-4316-b688-709246434d88",
   "metadata": {},
   "outputs": [
    {
     "name": "stdout",
     "output_type": "stream",
     "text": [
      "Overwriting app_test.py\n"
     ]
    }
   ],
   "source": [
    "%%writefile app_test.py\n",
    "\n",
    "import streamlit as st\n",
    "from tensorflow.keras.models import load_model\n",
    "from tensorflow.keras.preprocessing.image import load_img, img_to_array\n",
    "import numpy as np\n",
    "from PIL import Image\n",
    "\n",
    "# Load the pre-trained model\n",
    "model = load_model(\"cnn_mnist_model.h5\")\n",
    "\n",
    "# Streamlit App\n",
    "st.title(\"MNIST Digit Recognition with CNN\")\n",
    "st.write(\"Upload a grayscale image of a handwritten digit (28x28 pixels).\")\n",
    "\n",
    "# Upload Image\n",
    "uploaded_file = st.file_uploader(\"Choose an image file\", type=[\"jpg\", \"png\", \"jpeg\"])\n",
    "\n",
    "if uploaded_file is not None:\n",
    "    # Display uploaded image\n",
    "    image = Image.open(uploaded_file).convert(\"L\")  # Convert to grayscale\n",
    "    st.image(image, caption=\"Uploaded Image\", use_column_width=True)\n",
    "\n",
    "    # Preprocess the image\n",
    "    img = image.resize((28, 28))  # Resize to 28x28 pixels\n",
    "    img_array = img_to_array(img).astype(\"float32\") / 255.0  # Normalize\n",
    "    img_array = img_array.reshape(1, 28, 28, 1)  # Add batch dimension\n",
    "\n",
    "    # Make prediction\n",
    "    predictions = model.predict(img_array)\n",
    "    predicted_class = np.argmax(predictions)\n",
    "    confidence = np.max(predictions) * 100\n",
    "\n",
    "    # Show results\n",
    "    st.write(f\"**Predicted Digit:** {predicted_class}\")\n",
    "    st.write(f\"**Confidence:** {confidence:.2f}%\")\n",
    "\n",
    "# Evaluate the model accuracy\n",
    "st.write(\"---\")\n",
    "if st.button(\"Show Model Accuracy\"):\n",
    "    _, accuracy = model.evaluate(x_test, y_test, verbose=0)\n",
    "    st.write(f\"**Model Test Accuracy:** {accuracy:.2f}\")\n"
   ]
  },
  {
   "cell_type": "code",
   "execution_count": 6,
   "id": "f70e75dd-f2db-48bb-96c4-3b6945a3411a",
   "metadata": {},
   "outputs": [
    {
     "data": {
      "text/plain": [
       "'C:\\\\Users\\\\hi\\\\MNAIST  HAND-RETTEN NUMBER  ACCURACY PREDICTION'"
      ]
     },
     "execution_count": 6,
     "metadata": {},
     "output_type": "execute_result"
    }
   ],
   "source": [
    "pwd"
   ]
  },
  {
   "cell_type": "code",
   "execution_count": 7,
   "id": "dd7e51e0-31cd-41d8-8646-07276ef37860",
   "metadata": {},
   "outputs": [],
   "source": [
    "import os"
   ]
  },
  {
   "cell_type": "code",
   "execution_count": 8,
   "id": "52280812-41f1-450a-a8c1-2f9181d2f3de",
   "metadata": {},
   "outputs": [
    {
     "ename": "TypeError",
     "evalue": "system() missing required argument 'command' (pos 1)",
     "output_type": "error",
     "traceback": [
      "\u001b[1;31m---------------------------------------------------------------------------\u001b[0m",
      "\u001b[1;31mTypeError\u001b[0m                                 Traceback (most recent call last)",
      "Cell \u001b[1;32mIn[8], line 1\u001b[0m\n\u001b[1;32m----> 1\u001b[0m os\u001b[38;5;241m.\u001b[39msystem()\n",
      "\u001b[1;31mTypeError\u001b[0m: system() missing required argument 'command' (pos 1)"
     ]
    }
   ],
   "source": [
    "os.system()"
   ]
  },
  {
   "cell_type": "code",
   "execution_count": null,
   "id": "e25bf972-e4ae-4c20-8b92-579e38e8d467",
   "metadata": {},
   "outputs": [],
   "source": []
  },
  {
   "cell_type": "code",
   "execution_count": null,
   "id": "2f2c6852-269d-4c87-804c-ea202a2fac43",
   "metadata": {},
   "outputs": [],
   "source": []
  }
 ],
 "metadata": {
  "kernelspec": {
   "display_name": "Python 3 (ipykernel)",
   "language": "python",
   "name": "python3"
  },
  "language_info": {
   "codemirror_mode": {
    "name": "ipython",
    "version": 3
   },
   "file_extension": ".py",
   "mimetype": "text/x-python",
   "name": "python",
   "nbconvert_exporter": "python",
   "pygments_lexer": "ipython3",
   "version": "3.12.7"
  }
 },
 "nbformat": 4,
 "nbformat_minor": 5
}
